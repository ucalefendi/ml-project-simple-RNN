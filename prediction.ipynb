{
 "cells": [
  {
   "cell_type": "code",
   "execution_count": 3,
   "metadata": {},
   "outputs": [],
   "source": [
    "import numpy as np\n",
    "import tensorflow as tf\n",
    "from tensorflow.keras.datasets import imdb\n",
    "from tensorflow.keras.models import load_model\n",
    "from tensorflow.keras.preprocessing import sequence\n"
   ]
  },
  {
   "cell_type": "code",
   "execution_count": 4,
   "metadata": {},
   "outputs": [],
   "source": [
    "#load the IMDB dataset word index\n",
    "word_index = imdb.get_word_index()\n",
    "reverse_word_index = {value: key for key,value in word_index.items()}"
   ]
  },
  {
   "cell_type": "code",
   "execution_count": 5,
   "metadata": {},
   "outputs": [
    {
     "name": "stderr",
     "output_type": "stream",
     "text": [
      "WARNING:absl:Compiled the loaded model, but the compiled metrics have yet to be built. `model.compile_metrics` will be empty until you train or evaluate the model.\n"
     ]
    },
    {
     "data": {
      "text/html": [
       "<pre style=\"white-space:pre;overflow-x:auto;line-height:normal;font-family:Menlo,'DejaVu Sans Mono',consolas,'Courier New',monospace\"><span style=\"font-weight: bold\">Model: \"sequential\"</span>\n",
       "</pre>\n"
      ],
      "text/plain": [
       "\u001b[1mModel: \"sequential\"\u001b[0m\n"
      ]
     },
     "metadata": {},
     "output_type": "display_data"
    },
    {
     "data": {
      "text/html": [
       "<pre style=\"white-space:pre;overflow-x:auto;line-height:normal;font-family:Menlo,'DejaVu Sans Mono',consolas,'Courier New',monospace\">┏━━━━━━━━━━━━━━━━━━━━━━━━━━━━━━━━━┳━━━━━━━━━━━━━━━━━━━━━━━━┳━━━━━━━━━━━━━━━┓\n",
       "┃<span style=\"font-weight: bold\"> Layer (type)                    </span>┃<span style=\"font-weight: bold\"> Output Shape           </span>┃<span style=\"font-weight: bold\">       Param # </span>┃\n",
       "┡━━━━━━━━━━━━━━━━━━━━━━━━━━━━━━━━━╇━━━━━━━━━━━━━━━━━━━━━━━━╇━━━━━━━━━━━━━━━┩\n",
       "│ embedding (<span style=\"color: #0087ff; text-decoration-color: #0087ff\">Embedding</span>)           │ (<span style=\"color: #00d7ff; text-decoration-color: #00d7ff\">None</span>, <span style=\"color: #00af00; text-decoration-color: #00af00\">500</span>, <span style=\"color: #00af00; text-decoration-color: #00af00\">128</span>)       │     <span style=\"color: #00af00; text-decoration-color: #00af00\">1,280,000</span> │\n",
       "├─────────────────────────────────┼────────────────────────┼───────────────┤\n",
       "│ simple_rnn (<span style=\"color: #0087ff; text-decoration-color: #0087ff\">SimpleRNN</span>)          │ (<span style=\"color: #00d7ff; text-decoration-color: #00d7ff\">None</span>, <span style=\"color: #00af00; text-decoration-color: #00af00\">128</span>)            │        <span style=\"color: #00af00; text-decoration-color: #00af00\">32,896</span> │\n",
       "├─────────────────────────────────┼────────────────────────┼───────────────┤\n",
       "│ dense (<span style=\"color: #0087ff; text-decoration-color: #0087ff\">Dense</span>)                   │ (<span style=\"color: #00d7ff; text-decoration-color: #00d7ff\">None</span>, <span style=\"color: #00af00; text-decoration-color: #00af00\">1</span>)              │           <span style=\"color: #00af00; text-decoration-color: #00af00\">129</span> │\n",
       "└─────────────────────────────────┴────────────────────────┴───────────────┘\n",
       "</pre>\n"
      ],
      "text/plain": [
       "┏━━━━━━━━━━━━━━━━━━━━━━━━━━━━━━━━━┳━━━━━━━━━━━━━━━━━━━━━━━━┳━━━━━━━━━━━━━━━┓\n",
       "┃\u001b[1m \u001b[0m\u001b[1mLayer (type)                   \u001b[0m\u001b[1m \u001b[0m┃\u001b[1m \u001b[0m\u001b[1mOutput Shape          \u001b[0m\u001b[1m \u001b[0m┃\u001b[1m \u001b[0m\u001b[1m      Param #\u001b[0m\u001b[1m \u001b[0m┃\n",
       "┡━━━━━━━━━━━━━━━━━━━━━━━━━━━━━━━━━╇━━━━━━━━━━━━━━━━━━━━━━━━╇━━━━━━━━━━━━━━━┩\n",
       "│ embedding (\u001b[38;5;33mEmbedding\u001b[0m)           │ (\u001b[38;5;45mNone\u001b[0m, \u001b[38;5;34m500\u001b[0m, \u001b[38;5;34m128\u001b[0m)       │     \u001b[38;5;34m1,280,000\u001b[0m │\n",
       "├─────────────────────────────────┼────────────────────────┼───────────────┤\n",
       "│ simple_rnn (\u001b[38;5;33mSimpleRNN\u001b[0m)          │ (\u001b[38;5;45mNone\u001b[0m, \u001b[38;5;34m128\u001b[0m)            │        \u001b[38;5;34m32,896\u001b[0m │\n",
       "├─────────────────────────────────┼────────────────────────┼───────────────┤\n",
       "│ dense (\u001b[38;5;33mDense\u001b[0m)                   │ (\u001b[38;5;45mNone\u001b[0m, \u001b[38;5;34m1\u001b[0m)              │           \u001b[38;5;34m129\u001b[0m │\n",
       "└─────────────────────────────────┴────────────────────────┴───────────────┘\n"
      ]
     },
     "metadata": {},
     "output_type": "display_data"
    },
    {
     "data": {
      "text/html": [
       "<pre style=\"white-space:pre;overflow-x:auto;line-height:normal;font-family:Menlo,'DejaVu Sans Mono',consolas,'Courier New',monospace\"><span style=\"font-weight: bold\"> Total params: </span><span style=\"color: #00af00; text-decoration-color: #00af00\">1,313,027</span> (5.01 MB)\n",
       "</pre>\n"
      ],
      "text/plain": [
       "\u001b[1m Total params: \u001b[0m\u001b[38;5;34m1,313,027\u001b[0m (5.01 MB)\n"
      ]
     },
     "metadata": {},
     "output_type": "display_data"
    },
    {
     "data": {
      "text/html": [
       "<pre style=\"white-space:pre;overflow-x:auto;line-height:normal;font-family:Menlo,'DejaVu Sans Mono',consolas,'Courier New',monospace\"><span style=\"font-weight: bold\"> Trainable params: </span><span style=\"color: #00af00; text-decoration-color: #00af00\">1,313,025</span> (5.01 MB)\n",
       "</pre>\n"
      ],
      "text/plain": [
       "\u001b[1m Trainable params: \u001b[0m\u001b[38;5;34m1,313,025\u001b[0m (5.01 MB)\n"
      ]
     },
     "metadata": {},
     "output_type": "display_data"
    },
    {
     "data": {
      "text/html": [
       "<pre style=\"white-space:pre;overflow-x:auto;line-height:normal;font-family:Menlo,'DejaVu Sans Mono',consolas,'Courier New',monospace\"><span style=\"font-weight: bold\"> Non-trainable params: </span><span style=\"color: #00af00; text-decoration-color: #00af00\">0</span> (0.00 B)\n",
       "</pre>\n"
      ],
      "text/plain": [
       "\u001b[1m Non-trainable params: \u001b[0m\u001b[38;5;34m0\u001b[0m (0.00 B)\n"
      ]
     },
     "metadata": {},
     "output_type": "display_data"
    },
    {
     "data": {
      "text/html": [
       "<pre style=\"white-space:pre;overflow-x:auto;line-height:normal;font-family:Menlo,'DejaVu Sans Mono',consolas,'Courier New',monospace\"><span style=\"font-weight: bold\"> Optimizer params: </span><span style=\"color: #00af00; text-decoration-color: #00af00\">2</span> (12.00 B)\n",
       "</pre>\n"
      ],
      "text/plain": [
       "\u001b[1m Optimizer params: \u001b[0m\u001b[38;5;34m2\u001b[0m (12.00 B)\n"
      ]
     },
     "metadata": {},
     "output_type": "display_data"
    }
   ],
   "source": [
    "#Load the pre-trained model with Relu activation function\n",
    "model = load_model('simple_RNN_imdb.h5')\n",
    "model.summary()"
   ]
  },
  {
   "cell_type": "code",
   "execution_count": 6,
   "metadata": {},
   "outputs": [
    {
     "data": {
      "text/plain": [
       "[array([[ 0.91299814,  0.6409217 ,  0.91515285, ...,  0.27004075,\n",
       "          0.5973987 , -0.01273449],\n",
       "        [ 0.10949082,  0.05262056,  0.14770542, ...,  0.06470041,\n",
       "          0.0474479 ,  0.098949  ],\n",
       "        [ 0.10555748,  0.10140133,  0.08918733, ...,  0.16198839,\n",
       "          0.18121712,  0.09400163],\n",
       "        ...,\n",
       "        [-0.13586444, -0.02615101, -0.08785833, ..., -0.09599277,\n",
       "          0.00467399, -0.0731697 ],\n",
       "        [ 0.0378868 ,  0.03350971,  0.06129422, ...,  0.13797724,\n",
       "          0.16855548,  0.1341315 ],\n",
       "        [-0.12379389,  0.0986441 , -0.04808308, ..., -0.1548485 ,\n",
       "          0.06921163, -0.03160843]], dtype=float32),\n",
       " array([[-0.05097625,  0.01608456, -0.06879383, ..., -0.11953332,\n",
       "          0.03628765, -0.11145438],\n",
       "        [-0.08821565, -0.16663714, -0.16543944, ..., -0.03825884,\n",
       "          0.13360354,  0.10977863],\n",
       "        [-0.11604757,  0.0798794 , -0.14521217, ..., -0.14325938,\n",
       "         -0.18797201,  0.00035102],\n",
       "        ...,\n",
       "        [-0.12360678,  0.12233421, -0.10823888, ..., -0.22975905,\n",
       "          0.0128279 , -0.12475121],\n",
       "        [-0.18629956,  0.01341545,  0.00123638, ..., -0.11511885,\n",
       "         -0.10507874, -0.06384801],\n",
       "        [ 0.11867167,  0.18177065,  0.02029734, ..., -0.04600244,\n",
       "         -0.16735728,  0.02344   ]], dtype=float32),\n",
       " array([[ 0.02587342, -0.0408337 , -0.03019409, ..., -0.0440054 ,\n",
       "         -0.00300265, -0.05901405],\n",
       "        [-0.00540968, -0.11523337,  0.08073853, ..., -0.03238759,\n",
       "         -0.01614409, -0.19868965],\n",
       "        [-0.07516614, -0.1288173 , -0.14146751, ...,  0.04572445,\n",
       "          0.02189653,  0.04150889],\n",
       "        ...,\n",
       "        [ 0.00084463, -0.18060185, -0.05470077, ..., -0.06189678,\n",
       "          0.16330656,  0.01683285],\n",
       "        [-0.14574738,  0.09671635, -0.14628991, ..., -0.03160278,\n",
       "         -0.18920937,  0.00722582],\n",
       "        [ 0.05707335,  0.07272683, -0.13490875, ..., -0.08210689,\n",
       "         -0.1125346 ,  0.00919247]], dtype=float32),\n",
       " array([ 0.0361589 , -0.01692071, -0.05623449, -0.05730074, -0.0300502 ,\n",
       "        -0.03279355, -0.06110565, -0.02104639, -0.00499144, -0.0166662 ,\n",
       "         0.00376514,  0.01001897,  0.05463357,  0.05585174, -0.04164633,\n",
       "         0.00817267, -0.04407286, -0.00105908, -0.01935799, -0.06366669,\n",
       "        -0.00135586, -0.02246564,  0.05843784,  0.01636255, -0.03323023,\n",
       "        -0.00456792, -0.04317911, -0.00213097, -0.00180449,  0.03666353,\n",
       "        -0.02741245,  0.05125075, -0.00191319,  0.05438248,  0.02720612,\n",
       "         0.00032394,  0.05382755,  0.03675341, -0.0501236 ,  0.01592069,\n",
       "        -0.01090812, -0.01024772, -0.04233295,  0.00510876, -0.0138729 ,\n",
       "        -0.02149066,  0.00656133, -0.02943217,  0.01142914, -0.05085697,\n",
       "         0.01554706, -0.00657055,  0.06213937,  0.05230888,  0.01358247,\n",
       "         0.06075194,  0.04553339, -0.05992727, -0.03597444,  0.00225443,\n",
       "        -0.04358375, -0.05053436,  0.01849259, -0.04448473, -0.05484777,\n",
       "         0.07009542,  0.02896186,  0.00119624, -0.04856675, -0.03962511,\n",
       "        -0.04296674,  0.0009814 ,  0.01187761, -0.02877042, -0.04903821,\n",
       "        -0.04410167, -0.04769921,  0.03510513,  0.06144243, -0.01507921,\n",
       "        -0.04058389,  0.03549781,  0.05326135,  0.03654892,  0.05519942,\n",
       "        -0.04089047, -0.0268205 ,  0.05839395,  0.03593998, -0.04301434,\n",
       "         0.00119475, -0.00644721,  0.00550877, -0.0100368 ,  0.01004465,\n",
       "        -0.01592955, -0.01998831, -0.04723858, -0.02773939, -0.04537315,\n",
       "        -0.03499165, -0.05448308, -0.06841797, -0.05092309, -0.05614544,\n",
       "         0.02236002, -0.03941149,  0.00291613, -0.04948815,  0.00210516,\n",
       "        -0.02028688,  0.01528026, -0.0106536 ,  0.03464784, -0.05347781,\n",
       "         0.03734908,  0.07206224, -0.05385527,  0.05072615,  0.00079031,\n",
       "        -0.045929  , -0.00367846, -0.05084806,  0.01289839, -0.02947963,\n",
       "        -0.05378499, -0.01130318, -0.00011015], dtype=float32),\n",
       " array([[ 1.44782975e-01],\n",
       "        [-1.64909303e-01],\n",
       "        [ 1.88126639e-01],\n",
       "        [ 1.37188539e-01],\n",
       "        [ 3.99942577e-01],\n",
       "        [ 9.53556132e-03],\n",
       "        [ 2.02421427e-01],\n",
       "        [-1.47424147e-01],\n",
       "        [ 2.32426032e-01],\n",
       "        [ 4.91303131e-02],\n",
       "        [ 5.88079751e-01],\n",
       "        [-4.70637158e-02],\n",
       "        [ 1.23969711e-01],\n",
       "        [-1.68448105e-01],\n",
       "        [ 1.50416911e-01],\n",
       "        [-7.70196393e-02],\n",
       "        [ 5.98679334e-02],\n",
       "        [-7.00520352e-02],\n",
       "        [ 1.04040755e-02],\n",
       "        [-1.47009701e-01],\n",
       "        [ 1.62059069e-01],\n",
       "        [ 5.73957004e-02],\n",
       "        [ 1.07434995e-01],\n",
       "        [ 3.86568904e-02],\n",
       "        [-7.60622025e-02],\n",
       "        [-2.13177815e-01],\n",
       "        [ 1.44801930e-01],\n",
       "        [ 1.73164606e-01],\n",
       "        [ 1.26479134e-01],\n",
       "        [ 2.45702878e-01],\n",
       "        [-1.37798384e-01],\n",
       "        [-2.53338255e-02],\n",
       "        [-1.99864253e-01],\n",
       "        [-1.99612334e-01],\n",
       "        [ 2.25266039e-01],\n",
       "        [ 3.25855836e-02],\n",
       "        [ 7.10617453e-02],\n",
       "        [ 1.70364454e-02],\n",
       "        [ 2.45089039e-01],\n",
       "        [ 7.52283096e-01],\n",
       "        [-1.41177431e-01],\n",
       "        [-1.91135541e-01],\n",
       "        [ 4.72061522e-02],\n",
       "        [ 6.22134916e-02],\n",
       "        [-2.10600436e-01],\n",
       "        [ 1.56271294e-01],\n",
       "        [-1.09395957e+00],\n",
       "        [-2.19453543e-01],\n",
       "        [ 3.45282368e-02],\n",
       "        [-1.96009204e-02],\n",
       "        [-1.62979394e-01],\n",
       "        [ 1.90566823e-01],\n",
       "        [-1.92761123e-01],\n",
       "        [ 6.32373095e-01],\n",
       "        [ 1.90531358e-01],\n",
       "        [ 5.57866469e-02],\n",
       "        [-2.05687374e-01],\n",
       "        [ 7.72151724e-02],\n",
       "        [ 1.04363181e-01],\n",
       "        [ 3.97345779e-04],\n",
       "        [ 1.52221352e-01],\n",
       "        [-3.24385256e-01],\n",
       "        [ 3.80179919e-02],\n",
       "        [ 2.17892021e-01],\n",
       "        [ 2.07449019e-01],\n",
       "        [ 7.04505369e-02],\n",
       "        [-6.83467686e-02],\n",
       "        [-9.71279964e-02],\n",
       "        [-5.25441319e-02],\n",
       "        [ 2.73801714e-01],\n",
       "        [-9.48176533e-02],\n",
       "        [ 1.08013734e-01],\n",
       "        [ 3.20766151e-01],\n",
       "        [ 1.34125784e-01],\n",
       "        [-1.13703636e-02],\n",
       "        [ 2.29887560e-01],\n",
       "        [ 2.58844551e-02],\n",
       "        [ 3.94334614e-01],\n",
       "        [ 1.38267666e-01],\n",
       "        [-3.68421450e-02],\n",
       "        [-8.76802877e-02],\n",
       "        [-2.98051089e-02],\n",
       "        [-1.78169131e-01],\n",
       "        [ 2.15130746e-01],\n",
       "        [-1.20547496e-01],\n",
       "        [-2.60073423e-01],\n",
       "        [-1.14405729e-01],\n",
       "        [-1.97435245e-01],\n",
       "        [ 4.28294726e-02],\n",
       "        [ 1.75704300e-01],\n",
       "        [ 1.60219327e-01],\n",
       "        [ 2.04360649e-01],\n",
       "        [ 2.50954956e-01],\n",
       "        [-1.19994380e-01],\n",
       "        [ 1.16491854e-01],\n",
       "        [ 6.68711141e-02],\n",
       "        [-1.04378201e-01],\n",
       "        [ 2.52732068e-01],\n",
       "        [-5.28742075e-02],\n",
       "        [ 1.27244189e-01],\n",
       "        [-3.61223519e-02],\n",
       "        [ 1.17763430e-01],\n",
       "        [ 2.16872513e-01],\n",
       "        [-2.21481487e-01],\n",
       "        [ 2.79770046e-01],\n",
       "        [-1.64110854e-01],\n",
       "        [ 6.10253960e-02],\n",
       "        [-8.46049786e-02],\n",
       "        [-2.20603887e-02],\n",
       "        [ 1.37649905e-02],\n",
       "        [-5.96358031e-02],\n",
       "        [ 5.50317943e-01],\n",
       "        [-8.59366357e-02],\n",
       "        [-2.63958424e-01],\n",
       "        [ 7.29224682e-02],\n",
       "        [-1.18191086e-01],\n",
       "        [-8.74232035e-03],\n",
       "        [ 1.52771547e-01],\n",
       "        [ 8.15324262e-02],\n",
       "        [ 1.34836867e-01],\n",
       "        [ 2.07484141e-01],\n",
       "        [-1.43051460e-01],\n",
       "        [-1.32121354e-01],\n",
       "        [-7.49098733e-02],\n",
       "        [-1.46389991e-01],\n",
       "        [ 1.55055538e-01],\n",
       "        [ 7.90580586e-02],\n",
       "        [ 5.93579292e-01]], dtype=float32),\n",
       " array([1.1866117], dtype=float32)]"
      ]
     },
     "execution_count": 6,
     "metadata": {},
     "output_type": "execute_result"
    }
   ],
   "source": [
    "model.get_weights()"
   ]
  },
  {
   "cell_type": "code",
   "execution_count": null,
   "metadata": {},
   "outputs": [],
   "source": [
    "#Step 2: Helper functions\n",
    "#Function to decode Reviews\n",
    "\n",
    "def decode_review(encoded_review):\n",
    "    return \"  \".join([reverse_word_index.get(i - 3,'?') for i in encoded_review])\n",
    "\n",
    "\n",
    "\n",
    "#Function to preprocess user input\n",
    "def preprocess_text(text):\n",
    "    words = text.lower().split()\n",
    "    encoded_review = [ word_index.get(word,2) + 3 for word in words]\n",
    "    padded_review = sequence.pad_sequences([encoded_review],maxlen=500)\n",
    "    return padded_review"
   ]
  },
  {
   "cell_type": "code",
   "execution_count": 7,
   "metadata": {},
   "outputs": [],
   "source": [
    "#prediction function\n",
    "\n",
    "def predict_sentiment(review):\n",
    "    preprocessed_input = preprocess_text(review)\n",
    "    prediction = model.predict(preprocessed_input)\n",
    "\n",
    "    sentiment = 'Positive' if prediction[0][0] > 0.5 else 'Negative'\n",
    "    return sentiment,prediction[0][0]\n"
   ]
  },
  {
   "cell_type": "code",
   "execution_count": null,
   "metadata": {},
   "outputs": [],
   "source": [
    "#Step 4 .User input and prediction\n",
    "#Example review for prediction\n",
    "\n",
    "example_review = \"This movie was romantic.The acting was great and plot was not thrilling\" \n",
    "\n",
    "\n",
    "sentiment,score = predict_sentiment(example_review)\n",
    "\n",
    "\n",
    "print(f\"example review: {example_review}\")\n",
    "print(f\"sentiment: {sentiment}\")\n",
    "print(f\"score: {score}\")"
   ]
  }
 ],
 "metadata": {
  "kernelspec": {
   "display_name": "projectml2",
   "language": "python",
   "name": "python3"
  },
  "language_info": {
   "codemirror_mode": {
    "name": "ipython",
    "version": 3
   },
   "file_extension": ".py",
   "mimetype": "text/x-python",
   "name": "python",
   "nbconvert_exporter": "python",
   "pygments_lexer": "ipython3",
   "version": "3.12.5"
  }
 },
 "nbformat": 4,
 "nbformat_minor": 2
}
